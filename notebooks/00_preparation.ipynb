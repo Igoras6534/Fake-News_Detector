{
 "cells": [
  {
   "cell_type": "code",
   "execution_count": 3,
   "metadata": {},
   "outputs": [],
   "source": [
    "import pandas as pd\n",
    "from sklearn.utils import shuffle\n"
   ]
  },
  {
   "cell_type": "code",
   "execution_count": 4,
   "metadata": {},
   "outputs": [],
   "source": [
    "df_fake = pd.read_csv(\"../data/raw/Fake.csv\")\n",
    "df_true = pd.read_csv(\"../data/raw/True.csv\")\n"
   ]
  },
  {
   "cell_type": "code",
   "execution_count": 5,
   "metadata": {},
   "outputs": [],
   "source": [
    "df_fake[\"label\"] = 1\n",
    "df_true[\"label\"] = 0"
   ]
  },
  {
   "cell_type": "code",
   "execution_count": 6,
   "metadata": {},
   "outputs": [
    {
     "data": {
      "text/plain": [
       "title    0\n",
       "text     0\n",
       "date     0\n",
       "label    0\n",
       "dtype: int64"
      ]
     },
     "execution_count": 6,
     "metadata": {},
     "output_type": "execute_result"
    }
   ],
   "source": [
    "df = pd.concat([df_fake,df_true],ignore_index=True)\n",
    "df.isna().sum()"
   ]
  },
  {
   "cell_type": "code",
   "execution_count": 7,
   "metadata": {},
   "outputs": [
    {
     "data": {
      "text/plain": [
       "(44898, 4)"
      ]
     },
     "execution_count": 7,
     "metadata": {},
     "output_type": "execute_result"
    }
   ],
   "source": [
    "df.shape"
   ]
  },
  {
   "cell_type": "code",
   "execution_count": 8,
   "metadata": {},
   "outputs": [
    {
     "data": {
      "text/plain": [
       "5788"
      ]
     },
     "execution_count": 8,
     "metadata": {},
     "output_type": "execute_result"
    }
   ],
   "source": [
    "df.duplicated().sum()"
   ]
  },
  {
   "cell_type": "code",
   "execution_count": 9,
   "metadata": {},
   "outputs": [],
   "source": [
    "df.drop_duplicates(subset=[\"title\", \"text\"], inplace=True)"
   ]
  },
  {
   "cell_type": "code",
   "execution_count": 10,
   "metadata": {},
   "outputs": [],
   "source": [
    "df['date'] = pd.to_datetime(df[\"date\"],errors=\"coerce\")"
   ]
  },
  {
   "cell_type": "code",
   "execution_count": 11,
   "metadata": {},
   "outputs": [],
   "source": [
    "df = shuffle(df,random_state=42).reset_index(drop=True)"
   ]
  },
  {
   "cell_type": "code",
   "execution_count": 12,
   "metadata": {},
   "outputs": [
    {
     "name": "stdout",
     "output_type": "stream",
     "text": [
      "Shape (39105, 4)\n",
      "Label counts:\n",
      " 0    21197\n",
      "1    17908\n",
      "Name: label, dtype: int64\n"
     ]
    },
    {
     "data": {
      "text/html": [
       "<div>\n",
       "<style scoped>\n",
       "    .dataframe tbody tr th:only-of-type {\n",
       "        vertical-align: middle;\n",
       "    }\n",
       "\n",
       "    .dataframe tbody tr th {\n",
       "        vertical-align: top;\n",
       "    }\n",
       "\n",
       "    .dataframe thead th {\n",
       "        text-align: right;\n",
       "    }\n",
       "</style>\n",
       "<table border=\"1\" class=\"dataframe\">\n",
       "  <thead>\n",
       "    <tr style=\"text-align: right;\">\n",
       "      <th></th>\n",
       "      <th>title</th>\n",
       "      <th>text</th>\n",
       "      <th>date</th>\n",
       "      <th>label</th>\n",
       "    </tr>\n",
       "  </thead>\n",
       "  <tbody>\n",
       "    <tr>\n",
       "      <th>0</th>\n",
       "      <td>Many 'lost' voters say they have found their c...</td>\n",
       "      <td>WASHINGTON/NEW YORK (Reuters) - Ted Wade hasn’...</td>\n",
       "      <td>2016-01-17</td>\n",
       "      <td>0</td>\n",
       "    </tr>\n",
       "    <tr>\n",
       "      <th>1</th>\n",
       "      <td>Iranian Revolutionary Guards commander, anothe...</td>\n",
       "      <td>BEIRUT (Reuters) - A commander in Iran s elite...</td>\n",
       "      <td>2017-11-19</td>\n",
       "      <td>0</td>\n",
       "    </tr>\n",
       "    <tr>\n",
       "      <th>2</th>\n",
       "      <td>Cambodian leader gets China's backing as West ...</td>\n",
       "      <td>PHNOM PENH (Reuters) - Cambodian Prime Ministe...</td>\n",
       "      <td>2017-09-04</td>\n",
       "      <td>0</td>\n",
       "    </tr>\n",
       "    <tr>\n",
       "      <th>3</th>\n",
       "      <td>Ex-KKK Grand Wizard: Maine Gov. Right To Call...</td>\n",
       "      <td>David Duke is perhaps one of the most notoriou...</td>\n",
       "      <td>2016-01-11</td>\n",
       "      <td>1</td>\n",
       "    </tr>\n",
       "    <tr>\n",
       "      <th>4</th>\n",
       "      <td>FINGER-WAGGING GRANNY HILLARY CLINTON Blows Up...</td>\n",
       "      <td>Hillary Clinton shows her true colors here wit...</td>\n",
       "      <td>2016-03-31</td>\n",
       "      <td>1</td>\n",
       "    </tr>\n",
       "    <tr>\n",
       "      <th>5</th>\n",
       "      <td>Joe Scarborough Defends President Obama’s Emo...</td>\n",
       "      <td>While it s often difficult to notice, Joe Scar...</td>\n",
       "      <td>2016-01-06</td>\n",
       "      <td>1</td>\n",
       "    </tr>\n",
       "    <tr>\n",
       "      <th>6</th>\n",
       "      <td>What Dan Rather Has To Say About Trump’s ‘Dea...</td>\n",
       "      <td>On Tuesday afternoon, legendary journalist Dan...</td>\n",
       "      <td>2017-02-14</td>\n",
       "      <td>1</td>\n",
       "    </tr>\n",
       "    <tr>\n",
       "      <th>7</th>\n",
       "      <td>Republican: Porn Is Worse Than Cocaine, Gov’t...</td>\n",
       "      <td>A Republican state senator in Utah believes th...</td>\n",
       "      <td>2016-01-31</td>\n",
       "      <td>1</td>\n",
       "    </tr>\n",
       "    <tr>\n",
       "      <th>8</th>\n",
       "      <td>Trump, under fire on many fronts, expands camp...</td>\n",
       "      <td>WASHINGTON (Reuters) - Donald Trump, under pre...</td>\n",
       "      <td>2016-04-07</td>\n",
       "      <td>0</td>\n",
       "    </tr>\n",
       "    <tr>\n",
       "      <th>9</th>\n",
       "      <td>FLASHBACK: NANCY PELOSI Makes Outrageous Claim...</td>\n",
       "      <td>What a disgusting, out of touch racist she is....</td>\n",
       "      <td>2016-07-28</td>\n",
       "      <td>1</td>\n",
       "    </tr>\n",
       "    <tr>\n",
       "      <th>10</th>\n",
       "      <td>Robo-advisers shrug off U.S. fiduciary rule hu...</td>\n",
       "      <td>NEW YORK (Reuters) - As century-old Wall Stree...</td>\n",
       "      <td>2017-02-14</td>\n",
       "      <td>0</td>\n",
       "    </tr>\n",
       "    <tr>\n",
       "      <th>11</th>\n",
       "      <td>Twitter Rips The Huffington Post To Shreds Ov...</td>\n",
       "      <td>Liz Heron, executive editor at The Huffington ...</td>\n",
       "      <td>2016-05-21</td>\n",
       "      <td>1</td>\n",
       "    </tr>\n",
       "    <tr>\n",
       "      <th>12</th>\n",
       "      <td>Sign-up pace slows in third week of 2018 Obama...</td>\n",
       "      <td>(Reuters) - The pace slowed in the third week ...</td>\n",
       "      <td>2017-11-22</td>\n",
       "      <td>0</td>\n",
       "    </tr>\n",
       "    <tr>\n",
       "      <th>13</th>\n",
       "      <td>Suspects in Malta blogger's murder sent to trial</td>\n",
       "      <td>VALLETTA (Reuters) - Three men accused of kill...</td>\n",
       "      <td>2017-12-21</td>\n",
       "      <td>0</td>\n",
       "    </tr>\n",
       "    <tr>\n",
       "      <th>14</th>\n",
       "      <td>Trump taps Kelly for Homeland Security, third ...</td>\n",
       "      <td>NEW YORK/WASHINGTON (Reuters) - President-elec...</td>\n",
       "      <td>2016-12-07</td>\n",
       "      <td>0</td>\n",
       "    </tr>\n",
       "  </tbody>\n",
       "</table>\n",
       "</div>"
      ],
      "text/plain": [
       "                                                title  \\\n",
       "0   Many 'lost' voters say they have found their c...   \n",
       "1   Iranian Revolutionary Guards commander, anothe...   \n",
       "2   Cambodian leader gets China's backing as West ...   \n",
       "3    Ex-KKK Grand Wizard: Maine Gov. Right To Call...   \n",
       "4   FINGER-WAGGING GRANNY HILLARY CLINTON Blows Up...   \n",
       "5    Joe Scarborough Defends President Obama’s Emo...   \n",
       "6    What Dan Rather Has To Say About Trump’s ‘Dea...   \n",
       "7    Republican: Porn Is Worse Than Cocaine, Gov’t...   \n",
       "8   Trump, under fire on many fronts, expands camp...   \n",
       "9   FLASHBACK: NANCY PELOSI Makes Outrageous Claim...   \n",
       "10  Robo-advisers shrug off U.S. fiduciary rule hu...   \n",
       "11   Twitter Rips The Huffington Post To Shreds Ov...   \n",
       "12  Sign-up pace slows in third week of 2018 Obama...   \n",
       "13   Suspects in Malta blogger's murder sent to trial   \n",
       "14  Trump taps Kelly for Homeland Security, third ...   \n",
       "\n",
       "                                                 text       date  label  \n",
       "0   WASHINGTON/NEW YORK (Reuters) - Ted Wade hasn’... 2016-01-17      0  \n",
       "1   BEIRUT (Reuters) - A commander in Iran s elite... 2017-11-19      0  \n",
       "2   PHNOM PENH (Reuters) - Cambodian Prime Ministe... 2017-09-04      0  \n",
       "3   David Duke is perhaps one of the most notoriou... 2016-01-11      1  \n",
       "4   Hillary Clinton shows her true colors here wit... 2016-03-31      1  \n",
       "5   While it s often difficult to notice, Joe Scar... 2016-01-06      1  \n",
       "6   On Tuesday afternoon, legendary journalist Dan... 2017-02-14      1  \n",
       "7   A Republican state senator in Utah believes th... 2016-01-31      1  \n",
       "8   WASHINGTON (Reuters) - Donald Trump, under pre... 2016-04-07      0  \n",
       "9   What a disgusting, out of touch racist she is.... 2016-07-28      1  \n",
       "10  NEW YORK (Reuters) - As century-old Wall Stree... 2017-02-14      0  \n",
       "11  Liz Heron, executive editor at The Huffington ... 2016-05-21      1  \n",
       "12  (Reuters) - The pace slowed in the third week ... 2017-11-22      0  \n",
       "13  VALLETTA (Reuters) - Three men accused of kill... 2017-12-21      0  \n",
       "14  NEW YORK/WASHINGTON (Reuters) - President-elec... 2016-12-07      0  "
      ]
     },
     "execution_count": 12,
     "metadata": {},
     "output_type": "execute_result"
    }
   ],
   "source": [
    "print(\"Shape\", df.shape)\n",
    "print(\"Label counts:\\n\", df[\"label\"].value_counts())\n",
    "df.head(15)"
   ]
  },
  {
   "cell_type": "code",
   "execution_count": 13,
   "metadata": {},
   "outputs": [],
   "source": [
    "df.to_csv(\"../data/raw/clean_news.csv\",index=False)"
   ]
  }
 ],
 "metadata": {
  "kernelspec": {
   "display_name": "base",
   "language": "python",
   "name": "python3"
  },
  "language_info": {
   "codemirror_mode": {
    "name": "ipython",
    "version": 3
   },
   "file_extension": ".py",
   "mimetype": "text/x-python",
   "name": "python",
   "nbconvert_exporter": "python",
   "pygments_lexer": "ipython3",
   "version": "3.11.4"
  }
 },
 "nbformat": 4,
 "nbformat_minor": 2
}
